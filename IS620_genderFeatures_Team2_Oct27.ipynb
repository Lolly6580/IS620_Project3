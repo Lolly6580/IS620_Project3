{
 "cells": [
  {
   "cell_type": "code",
   "execution_count": 1,
   "metadata": {
    "collapsed": true
   },
   "outputs": [],
   "source": [
    "import nltk \n",
    "from nltk.corpus import names\n",
    "import random\n",
    "import copy"
   ]
  },
  {
   "cell_type": "code",
   "execution_count": 2,
   "metadata": {
    "collapsed": true
   },
   "outputs": [],
   "source": [
    "def gender_features(word):\n",
    "    return {'last_letter': word[-1]}"
   ]
  },
  {
   "cell_type": "code",
   "execution_count": 3,
   "metadata": {
    "collapsed": false
   },
   "outputs": [],
   "source": [
    "names = ([(name, 'male') for name in names.words('male.txt')] + [(name, 'female') for name in names.words('female.txt')])\n",
    "random.shuffle(names)"
   ]
  },
  {
   "cell_type": "code",
   "execution_count": 4,
   "metadata": {
    "collapsed": false
   },
   "outputs": [
    {
     "name": "stdout",
     "output_type": "stream",
     "text": [
      "[(u'Kelsey', 'female'), (u'Jinny', 'female'), (u'Jemie', 'female'), (u'Darius', 'male'), (u'Calla', 'female'), (u'Allin', 'male'), (u'Rutledge', 'male'), (u'Rosemarie', 'female'), (u'Aurlie', 'female'), (u'Zippy', 'male')]\n",
      "7944\n"
     ]
    }
   ],
   "source": [
    "## So now we have a list of string tuples, names and gender.  \n",
    "print (names[:10])\n",
    "print len(names)"
   ]
  },
  {
   "cell_type": "code",
   "execution_count": 5,
   "metadata": {
    "collapsed": false
   },
   "outputs": [],
   "source": [
    "## Broken down as in the book\n",
    "featuresets = [(gender_features(n), g) for (n,g) in names]\n",
    "train_set, test_set = featuresets[500:], featuresets[:500]\n",
    "classifier = nltk.NaiveBayesClassifier.train(train_set)"
   ]
  },
  {
   "cell_type": "code",
   "execution_count": 6,
   "metadata": {
    "collapsed": false
   },
   "outputs": [
    {
     "name": "stdout",
     "output_type": "stream",
     "text": [
      "0.794\n"
     ]
    }
   ],
   "source": [
    "print nltk.classify.accuracy(classifier, test_set)"
   ]
  },
  {
   "cell_type": "code",
   "execution_count": 7,
   "metadata": {
    "collapsed": true
   },
   "outputs": [],
   "source": [
    "## Broken down as request for project 3\n",
    "train_set, dev_set, test_set = featuresets[0:500], featuresets[500:1000], featuresets[1000:]\n",
    "classifier = nltk.NaiveBayesClassifier.train(train_set)"
   ]
  },
  {
   "cell_type": "code",
   "execution_count": 8,
   "metadata": {
    "collapsed": false
   },
   "outputs": [
    {
     "name": "stdout",
     "output_type": "stream",
     "text": [
      "500\n",
      "500\n",
      "6944\n"
     ]
    }
   ],
   "source": [
    "#check the lengths\n",
    "print len(train_set)\n",
    "print len(dev_set)\n",
    "print len(test_set)"
   ]
  },
  {
   "cell_type": "code",
   "execution_count": 9,
   "metadata": {
    "collapsed": false
   },
   "outputs": [
    {
     "name": "stdout",
     "output_type": "stream",
     "text": [
      "0.762\n"
     ]
    }
   ],
   "source": [
    "## check accuracy of the dev_set\n",
    "print nltk.classify.accuracy(classifier, dev_set)"
   ]
  },
  {
   "cell_type": "code",
   "execution_count": 10,
   "metadata": {
    "collapsed": false
   },
   "outputs": [
    {
     "name": "stdout",
     "output_type": "stream",
     "text": [
      "Most Informative Features\n",
      "             last_letter = u'd'             male : female =     17.4 : 1.0\n",
      "             last_letter = u'a'           female : male   =     16.2 : 1.0\n",
      "             last_letter = u'o'             male : female =     10.4 : 1.0\n",
      "             last_letter = u's'             male : female =      7.9 : 1.0\n",
      "             last_letter = u'i'           female : male   =      4.4 : 1.0\n"
     ]
    }
   ],
   "source": [
    "## Note these features are different from those in the text\n",
    "classifier.show_most_informative_features(5)"
   ]
  },
  {
   "cell_type": "code",
   "execution_count": 11,
   "metadata": {
    "collapsed": false
   },
   "outputs": [],
   "source": [
    "## includes first letter, last letter, has letter, and counts of each letter\n",
    "def gender_features2(name):\n",
    "    features = {}\n",
    "    features[\"firstletter\"] = name[0].lower()\n",
    "    features[\"lastletter\"] = name[-1].lower()\n",
    "    for letter in 'abcdefghijklmnopqrstuvwxyz':\n",
    "        features[\"count(%s)\" % letter] = name.lower().count(letter)\n",
    "        features[\"has(%s)\" % letter] = (letter in name.lower())\n",
    "    return features"
   ]
  },
  {
   "cell_type": "code",
   "execution_count": 12,
   "metadata": {
    "collapsed": false
   },
   "outputs": [
    {
     "name": "stdout",
     "output_type": "stream",
     "text": [
      "0.786\n"
     ]
    }
   ],
   "source": [
    "## Regenerate featuresets, with same order as before\n",
    "featuresets = [(gender_features2(n), g) for (n,g) in names]\n",
    "train_names, dev_names, test_names = names[0:500], names[500:1000], names[1000:]\n",
    "train_set, dev_set, test_set = featuresets[0:500], featuresets[500:1000], featuresets[1000:]\n",
    "classifier2 = nltk.NaiveBayesClassifier.train(train_set)\n",
    "print nltk.classify.accuracy(classifier2, dev_set)"
   ]
  },
  {
   "cell_type": "code",
   "execution_count": 13,
   "metadata": {
    "collapsed": false
   },
   "outputs": [
    {
     "name": "stdout",
     "output_type": "stream",
     "text": [
      "Most Informative Features\n",
      "              lastletter = u'd'             male : female =     17.4 : 1.0\n",
      "              lastletter = u'a'           female : male   =     16.2 : 1.0\n",
      "              lastletter = u'o'             male : female =     10.4 : 1.0\n",
      "              lastletter = u's'             male : female =      7.9 : 1.0\n",
      "                  has(w) = True             male : female =      7.0 : 1.0\n",
      "                count(w) = 1                male : female =      7.0 : 1.0\n",
      "              lastletter = u'i'           female : male   =      4.4 : 1.0\n",
      "                count(r) = 2                male : female =      4.4 : 1.0\n",
      "              lastletter = u't'             male : female =      4.3 : 1.0\n",
      "              lastletter = u'r'             male : female =      4.0 : 1.0\n"
     ]
    }
   ],
   "source": [
    "## counts of letters o and a appear important\n",
    "classifier2.show_most_informative_features(10)"
   ]
  },
  {
   "cell_type": "code",
   "execution_count": 14,
   "metadata": {
    "collapsed": false
   },
   "outputs": [
    {
     "name": "stdout",
     "output_type": "stream",
     "text": [
      "0.772\n"
     ]
    }
   ],
   "source": [
    "## Seeing what was important above, generate a new feature list without the 'has' function.\n",
    "## includes first letter, last letter, and counts of each letter\n",
    "def gender_features3(name):\n",
    "    m=int(round(len(name)/2))\n",
    "    midletter = name[m].lower()\n",
    "    features = {}\n",
    "    features['first_letter']  =  name[0].lower()\n",
    "    features['middle_letter'] =  midletter \n",
    "    features['last_letter']   =  name[-1].lower()\n",
    "    return features\n",
    "## Regenerate featuresets, with same order as before\n",
    "featuresets = [(gender_features3(n), g) for (n,g) in names]\n",
    "train_set, dev_set, test_set = featuresets[0:500], featuresets[500:1000], featuresets[1000:]\n",
    "classifier3 = nltk.NaiveBayesClassifier.train(train_set)\n",
    "print nltk.classify.accuracy(classifier3, dev_set)"
   ]
  },
  {
   "cell_type": "code",
   "execution_count": 15,
   "metadata": {
    "collapsed": false
   },
   "outputs": [],
   "source": [
    "errors = []\n",
    "for (name, tag) in dev_names:\n",
    "    guess = classifier3.classify(gender_features(name))\n",
    "    if guess != tag:\n",
    "        errors.append( (tag, guess, name) )"
   ]
  },
  {
   "cell_type": "code",
   "execution_count": 16,
   "metadata": {
    "collapsed": false
   },
   "outputs": [
    {
     "name": "stdout",
     "output_type": "stream",
     "text": [
      "correct=female   guess=male     name=Allsun                        \n",
      "correct=female   guess=male     name=Cameo                         \n",
      "correct=female   guess=male     name=Carlynn                       \n",
      "correct=female   guess=male     name=Caron                         \n",
      "correct=female   guess=male     name=Cathrin                       \n",
      "correct=female   guess=male     name=Charmian                      \n",
      "correct=female   guess=male     name=Dew                           \n",
      "correct=female   guess=male     name=Fallon                        \n",
      "correct=female   guess=male     name=Fan                           \n",
      "correct=female   guess=male     name=Fanchon                       \n",
      "correct=female   guess=male     name=Frank                         \n",
      "correct=female   guess=male     name=Gillian                       \n",
      "correct=female   guess=male     name=Gladys                        \n",
      "correct=female   guess=male     name=Jacquelin                     \n",
      "correct=female   guess=male     name=Karylin                       \n",
      "correct=female   guess=male     name=Kirstin                       \n",
      "correct=female   guess=male     name=LeeAnn                        \n",
      "correct=female   guess=male     name=Lib                           \n",
      "correct=female   guess=male     name=Lilas                         \n",
      "correct=female   guess=male     name=Lilian                        \n",
      "correct=female   guess=male     name=Linn                          \n",
      "correct=female   guess=male     name=Lynnett                       \n",
      "correct=female   guess=male     name=Magdalen                      \n",
      "correct=female   guess=male     name=Marylin                       \n",
      "correct=female   guess=male     name=Megen                         \n",
      "correct=female   guess=male     name=Meghan                        \n",
      "correct=female   guess=male     name=Mellisent                     \n",
      "correct=female   guess=male     name=Milissent                     \n",
      "correct=female   guess=male     name=Nan                           \n",
      "correct=female   guess=male     name=Ninon                         \n",
      "correct=female   guess=male     name=Olwen                         \n",
      "correct=female   guess=male     name=Phillis                       \n",
      "correct=female   guess=male     name=Rhiamon                       \n",
      "correct=female   guess=male     name=Riannon                       \n",
      "correct=female   guess=male     name=Rosamond                      \n",
      "correct=female   guess=male     name=Sallyann                      \n",
      "correct=female   guess=male     name=Sean                          \n",
      "correct=female   guess=male     name=Shannon                       \n",
      "correct=female   guess=male     name=Starr                         \n",
      "correct=female   guess=male     name=Suzan                         \n",
      "correct=female   guess=male     name=Taryn                         \n",
      "correct=female   guess=male     name=Willow                        \n",
      "correct=female   guess=male     name=Willyt                        \n",
      "correct=male     guess=female   name=Andrey                        \n",
      "correct=male     guess=female   name=Barnie                        \n",
      "correct=male     guess=female   name=Barrie                        \n",
      "correct=male     guess=female   name=Blake                         \n",
      "correct=male     guess=female   name=Brinkley                      \n",
      "correct=male     guess=female   name=Carmine                       \n",
      "correct=male     guess=female   name=Casey                         \n",
      "correct=male     guess=female   name=Christoph                     \n",
      "correct=male     guess=female   name=Cyrille                       \n",
      "correct=male     guess=female   name=Dennie                        \n",
      "correct=male     guess=female   name=Dickey                        \n",
      "correct=male     guess=female   name=Dimitry                       \n",
      "correct=male     guess=female   name=Dwayne                        \n",
      "correct=male     guess=female   name=Emory                         \n",
      "correct=male     guess=female   name=Ferdie                        \n",
      "correct=male     guess=female   name=Fidel                         \n",
      "correct=male     guess=female   name=Frederich                     \n",
      "correct=male     guess=female   name=Garfinkel                     \n",
      "correct=male     guess=female   name=Gill                          \n",
      "correct=male     guess=female   name=Guthrie                       \n",
      "correct=male     guess=female   name=Herculie                      \n",
      "correct=male     guess=female   name=Hersch                        \n",
      "correct=male     guess=female   name=Hewe                          \n",
      "correct=male     guess=female   name=Hilary                        \n",
      "correct=male     guess=female   name=Holly                         \n",
      "correct=male     guess=female   name=Hymie                         \n",
      "correct=male     guess=female   name=Jefferey                      \n",
      "correct=male     guess=female   name=Jody                          \n",
      "correct=male     guess=female   name=Jose                          \n",
      "correct=male     guess=female   name=Lefty                         \n",
      "correct=male     guess=female   name=Lorne                         \n",
      "correct=male     guess=female   name=Louie                         \n",
      "correct=male     guess=female   name=Lovell                        \n",
      "correct=male     guess=female   name=Luke                          \n",
      "correct=male     guess=female   name=Lyle                          \n",
      "correct=male     guess=female   name=Miguel                        \n",
      "correct=male     guess=female   name=Mose                          \n",
      "correct=male     guess=female   name=Neil                          \n",
      "correct=male     guess=female   name=Oral                          \n",
      "correct=male     guess=female   name=Orville                       \n",
      "correct=male     guess=female   name=Phillipe                      \n",
      "correct=male     guess=female   name=Pierce                        \n",
      "correct=male     guess=female   name=Pooh                          \n",
      "correct=male     guess=female   name=Ralph                         \n",
      "correct=male     guess=female   name=Ray                           \n",
      "correct=male     guess=female   name=Rickie                        \n",
      "correct=male     guess=female   name=Roth                          \n",
      "correct=male     guess=female   name=Ruby                          \n",
      "correct=male     guess=female   name=Rudie                         \n",
      "correct=male     guess=female   name=Salomone                      \n",
      "correct=male     guess=female   name=Scotti                        \n",
      "correct=male     guess=female   name=Seth                          \n",
      "correct=male     guess=female   name=Shayne                        \n",
      "correct=male     guess=female   name=Shelby                        \n",
      "correct=male     guess=female   name=Skippy                        \n",
      "correct=male     guess=female   name=Tammy                         \n",
      "correct=male     guess=female   name=Teddy                         \n",
      "correct=male     guess=female   name=Terrill                       \n",
      "correct=male     guess=female   name=Thayne                        \n",
      "correct=male     guess=female   name=Thorndike                     \n",
      "correct=male     guess=female   name=Torrey                        \n",
      "correct=male     guess=female   name=Towney                        \n",
      "correct=male     guess=female   name=Tracy                         \n",
      "correct=male     guess=female   name=Tremaine                      \n",
      "correct=male     guess=female   name=Valentine                     \n",
      "correct=male     guess=female   name=Vijay                         \n",
      "correct=male     guess=female   name=Welsh                         \n",
      "correct=male     guess=female   name=Wesley                        \n",
      "correct=male     guess=female   name=Willey                        \n",
      "correct=male     guess=female   name=Winthrop                      \n",
      "correct=male     guess=female   name=Worthy                        \n",
      "correct=male     guess=female   name=Yale                          \n",
      "correct=male     guess=female   name=Yancey                        \n",
      "correct=male     guess=female   name=Yehudi                        \n",
      "correct=male     guess=female   name=Zachery                       \n",
      "correct=male     guess=female   name=Zebadiah                      \n"
     ]
    }
   ],
   "source": [
    "## it guess a lot of male name as females.\n",
    "for (tag, guess, name) in sorted(errors): # doctest: +ELLIPSIS +NORMALIZE_WHITESPACE\n",
    "    print 'correct=%-8s guess=%-8s name=%-30s' %(tag, guess, name)"
   ]
  },
  {
   "cell_type": "code",
   "execution_count": 17,
   "metadata": {
    "collapsed": true
   },
   "outputs": [],
   "source": [
    "## Lets make a function for generating a new dev and train set, while keeping the same test set\n",
    "def getNewSets(names, gender_features):\n",
    "    n = copy.deepcopy(names)\n",
    "    n = n[0:1000]\n",
    "    n = sorted(n, key=lambda k: random.random())\n",
    "    namesnew = n + names[1000:]\n",
    "    featuresets = [(gender_features(n), g) for (n,g) in namesnew]\n",
    "    train_names, dev_names, test_names = names[0:500], names[500:1000], names[1000:]\n",
    "    train_set, dev_set, test_set = featuresets[0:500], featuresets[500:1000], featuresets[1000:]\n",
    "    return train_names, dev_names, test_names,train_set, dev_set, test_set"
   ]
  },
  {
   "cell_type": "code",
   "execution_count": 18,
   "metadata": {
    "collapsed": false
   },
   "outputs": [],
   "source": [
    "##looks at a combination of first and last letter\n",
    "def gender_features4(name):\n",
    "    features = {}\n",
    "    features[\"firstletter\"] = name[0].lower()\n",
    "    features[\"lastletter\"] = name[-1].lower()\n",
    "    features[\"firstAndLast\"] = name[0].lower() + name[-1].lower()\n",
    "    for letter in 'abcdefghijklmnopqrstuvwxyz':\n",
    "        features[\"count(%s)\" % letter] = name.lower().count(letter)\n",
    "    return features\n",
    "## Regenerate featuresets, with same order as before"
   ]
  },
  {
   "cell_type": "code",
   "execution_count": 19,
   "metadata": {
    "collapsed": false
   },
   "outputs": [],
   "source": [
    "train_names, dev_names, test_names,train_set, dev_set, test_set = getNewSets(names, gender_features4)"
   ]
  },
  {
   "cell_type": "code",
   "execution_count": 20,
   "metadata": {
    "collapsed": false
   },
   "outputs": [
    {
     "name": "stdout",
     "output_type": "stream",
     "text": [
      "0.762\n"
     ]
    }
   ],
   "source": [
    "## this is worse\n",
    "classifier4 = nltk.NaiveBayesClassifier.train(train_set)\n",
    "print nltk.classify.accuracy(classifier4, dev_set)"
   ]
  },
  {
   "cell_type": "code",
   "execution_count": 21,
   "metadata": {
    "collapsed": true
   },
   "outputs": [],
   "source": [
    "##looks at a combination of first two letters\n",
    "def gender_features5(name):\n",
    "    features = {}\n",
    "    features[\"firstletter\"] = name[0].lower()\n",
    "    features[\"lastletter\"] = name[-1].lower()\n",
    "    features[\"twofirst\"] = name[0].lower() + name[1].lower()\n",
    "    for letter in 'abcdefghijklmnopqrstuvwxyz':\n",
    "        features[\"count(%s)\" % letter] = name.lower().count(letter)\n",
    "    return features\n"
   ]
  },
  {
   "cell_type": "code",
   "execution_count": 22,
   "metadata": {
    "collapsed": false
   },
   "outputs": [
    {
     "name": "stdout",
     "output_type": "stream",
     "text": [
      "0.73\n"
     ]
    }
   ],
   "source": [
    "## and still worse\n",
    "train_names, dev_names, test_names,train_set, dev_set, test_set = getNewSets(names, gender_features5)\n",
    "classifier5 = nltk.NaiveBayesClassifier.train(train_set)\n",
    "print nltk.classify.accuracy(classifier5, dev_set)"
   ]
  },
  {
   "cell_type": "code",
   "execution_count": 23,
   "metadata": {
    "collapsed": false
   },
   "outputs": [
    {
     "name": "stdout",
     "output_type": "stream",
     "text": [
      "0.776\n"
     ]
    }
   ],
   "source": [
    "## as you can see, version 3 is better even afer re-randomizing\n",
    "train_names, dev_names, test_names,train_set, dev_set, test_set = getNewSets(names, gender_features3)\n",
    "classifier3 = nltk.NaiveBayesClassifier.train(train_set)\n",
    "print nltk.classify.accuracy(classifier3, dev_set)"
   ]
  },
  {
   "cell_type": "code",
   "execution_count": 24,
   "metadata": {
    "collapsed": true
   },
   "outputs": [],
   "source": [
    "##looks at a combination of first two letters\n",
    "def gender_features6(name):\n",
    "    features = {}\n",
    "    features[\"firstletter\"] = name[0].lower()\n",
    "    features[\"lastletter\"] = name[-1].lower()\n",
    "    features[\"twolast\"] = name[-2].lower() + name[-1].lower()\n",
    "    for letter in 'abcdefghijklmnopqrstuvwxyz':\n",
    "        features[\"count(%s)\" % letter] = name.lower().count(letter)\n",
    "    return features\n"
   ]
  },
  {
   "cell_type": "code",
   "execution_count": 25,
   "metadata": {
    "collapsed": false
   },
   "outputs": [
    {
     "name": "stdout",
     "output_type": "stream",
     "text": [
      "0.802\n"
     ]
    }
   ],
   "source": [
    "## this really has no improvement\n",
    "train_names, dev_names, test_names,train_set, dev_set, test_set = getNewSets(names, gender_features6)\n",
    "classifier6 = nltk.NaiveBayesClassifier.train(train_set)\n",
    "print nltk.classify.accuracy(classifier6, dev_set)"
   ]
  },
  {
   "cell_type": "code",
   "execution_count": 26,
   "metadata": {
    "collapsed": true
   },
   "outputs": [],
   "source": [
    "##include second to last\n",
    "def gender_features7(name):\n",
    "    features = {}\n",
    "    features[\"firstletter\"] = name[0].lower()\n",
    "    features[\"lastletter\"] = name[-1].lower()\n",
    "    features[\"secondToLast\"] = name[-2].lower() \n",
    "    for letter in 'abcdefghijklmnopqrstuvwxyz':\n",
    "        features[\"count(%s)\" % letter] = name.lower().count(letter)\n",
    "    return features\n"
   ]
  },
  {
   "cell_type": "code",
   "execution_count": 27,
   "metadata": {
    "collapsed": false
   },
   "outputs": [
    {
     "name": "stdout",
     "output_type": "stream",
     "text": [
      "0.806\n"
     ]
    }
   ],
   "source": [
    "## this really has no improvement either\n",
    "train_names, dev_names, test_names,train_set, dev_set, test_set = getNewSets(names, gender_features7)\n",
    "classifier7 = nltk.NaiveBayesClassifier.train(train_set)\n",
    "print nltk.classify.accuracy(classifier7, dev_set)"
   ]
  },
  {
   "cell_type": "code",
   "execution_count": 30,
   "metadata": {
    "collapsed": true
   },
   "outputs": [],
   "source": [
    "def gender_features8(name):\n",
    "    m=int(round(len(name)/2))\n",
    "    midletter = name[m].lower()\n",
    "    features = {}\n",
    "    features['first_letter']  =  name[0].lower()\n",
    "    features['middle_letter'] =  midletter \n",
    "    features['last_letter']   =  name[-1].lower()\n",
    "    return features\n"
   ]
  },
  {
   "cell_type": "code",
   "execution_count": 31,
   "metadata": {
    "collapsed": false
   },
   "outputs": [
    {
     "name": "stdout",
     "output_type": "stream",
     "text": [
      "0.754\n"
     ]
    }
   ],
   "source": [
    "## this does worse\n",
    "train_names, dev_names, test_names,train_set, dev_set, test_set = getNewSets(names, gender_features8)\n",
    "classifier8 = nltk.NaiveBayesClassifier.train(train_set)\n",
    "print nltk.classify.accuracy(classifier8, dev_set)"
   ]
  },
  {
   "cell_type": "markdown",
   "metadata": {},
   "source": [
    "So at this point, version 3 appears to do as good as any, with ~77-78%. Still, names like Dave and Mike are assigned incorrectly."
   ]
  }
 ],
 "metadata": {
  "anaconda-cloud": {},
  "kernelspec": {
   "display_name": "Python [Root]",
   "language": "python",
   "name": "Python [Root]"
  },
  "language_info": {
   "codemirror_mode": {
    "name": "ipython",
    "version": 2
   },
   "file_extension": ".py",
   "mimetype": "text/x-python",
   "name": "python",
   "nbconvert_exporter": "python",
   "pygments_lexer": "ipython2",
   "version": "2.7.12"
  }
 },
 "nbformat": 4,
 "nbformat_minor": 0
}
