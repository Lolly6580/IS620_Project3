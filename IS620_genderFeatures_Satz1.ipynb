{
 "cells": [
  {
   "cell_type": "code",
   "execution_count": 93,
   "metadata": {
    "collapsed": true
   },
   "outputs": [],
   "source": [
    "import nltk \n",
    "from nltk.corpus import names\n",
    "import random\n",
    "import copy"
   ]
  },
  {
   "cell_type": "code",
   "execution_count": 94,
   "metadata": {
    "collapsed": true
   },
   "outputs": [],
   "source": [
    "def gender_features(word):\n",
    "    return {'last_letter': word[-1]}"
   ]
  },
  {
   "cell_type": "code",
   "execution_count": 95,
   "metadata": {
    "collapsed": false
   },
   "outputs": [],
   "source": [
    "names = ([(name, 'male') for name in names.words('male.txt')] + [(name, 'female') for name in names.words('female.txt')])\n",
    "random.shuffle(names)"
   ]
  },
  {
   "cell_type": "code",
   "execution_count": 96,
   "metadata": {
    "collapsed": false
   },
   "outputs": [
    {
     "name": "stdout",
     "output_type": "stream",
     "text": [
      "[(u'Xever', 'male'), (u'Raoul', 'male'), (u'Arleyne', 'female'), (u'Saraann', 'female'), (u'Mady', 'female'), (u'Jean-Marc', 'male'), (u'Park', 'male'), (u'Cassaundra', 'female'), (u'Samson', 'male'), (u'Bartholomeo', 'male')]\n",
      "7944\n"
     ]
    }
   ],
   "source": [
    "## So now we have a list of string tuples, names and gender.  \n",
    "print (names[:10])\n",
    "print len(names)"
   ]
  },
  {
   "cell_type": "code",
   "execution_count": 9,
   "metadata": {
    "collapsed": false
   },
   "outputs": [],
   "source": [
    "## Broken down as in the book\n",
    "featuresets = [(gender_features(n), g) for (n,g) in names]\n",
    "train_set, test_set = featuresets[500:], featuresets[:500]\n",
    "classifier = nltk.NaiveBayesClassifier.train(train_set)"
   ]
  },
  {
   "cell_type": "code",
   "execution_count": 10,
   "metadata": {
    "collapsed": false
   },
   "outputs": [
    {
     "name": "stdout",
     "output_type": "stream",
     "text": [
      "0.788\n"
     ]
    }
   ],
   "source": [
    "print nltk.classify.accuracy(classifier, test_set)"
   ]
  },
  {
   "cell_type": "code",
   "execution_count": 11,
   "metadata": {
    "collapsed": true
   },
   "outputs": [],
   "source": [
    "## Broken down as request for project 3\n",
    "train_set, dev_set, test_set = featuresets[0:500], featuresets[500:1000], featuresets[1000:]\n",
    "classifier = nltk.NaiveBayesClassifier.train(train_set)"
   ]
  },
  {
   "cell_type": "code",
   "execution_count": 12,
   "metadata": {
    "collapsed": false
   },
   "outputs": [
    {
     "name": "stdout",
     "output_type": "stream",
     "text": [
      "500\n",
      "500\n",
      "6944\n"
     ]
    }
   ],
   "source": [
    "#check the lengths\n",
    "print len(train_set)\n",
    "print len(dev_set)\n",
    "print len(test_set)"
   ]
  },
  {
   "cell_type": "code",
   "execution_count": 13,
   "metadata": {
    "collapsed": false
   },
   "outputs": [
    {
     "name": "stdout",
     "output_type": "stream",
     "text": [
      "0.75\n"
     ]
    }
   ],
   "source": [
    "## check accuracy of the dev_set\n",
    "print nltk.classify.accuracy(classifier, dev_set)"
   ]
  },
  {
   "cell_type": "code",
   "execution_count": 14,
   "metadata": {
    "collapsed": false
   },
   "outputs": [
    {
     "name": "stdout",
     "output_type": "stream",
     "text": [
      "Most Informative Features\n",
      "             last_letter = u'o'             male : female =     16.7 : 1.0\n",
      "             last_letter = u't'             male : female =     13.0 : 1.0\n",
      "             last_letter = u'r'             male : female =     11.5 : 1.0\n",
      "             last_letter = u'm'             male : female =      5.6 : 1.0\n",
      "             last_letter = u'd'             male : female =      5.2 : 1.0\n"
     ]
    }
   ],
   "source": [
    "## Note these features are different from those in the text\n",
    "classifier.show_most_informative_features(5)"
   ]
  },
  {
   "cell_type": "code",
   "execution_count": 17,
   "metadata": {
    "collapsed": false
   },
   "outputs": [],
   "source": [
    "## includes first letter, last letter, has letter, and counts of each letter\n",
    "def gender_features2(name):\n",
    "    features = {}\n",
    "    features[\"firstletter\"] = name[0].lower()\n",
    "    features[\"lastletter\"] = name[-1].lower()\n",
    "    for letter in 'abcdefghijklmnopqrstuvwxyz':\n",
    "        features[\"count(%s)\" % letter] = name.lower().count(letter)\n",
    "        features[\"has(%s)\" % letter] = (letter in name.lower())\n",
    "    return features"
   ]
  },
  {
   "cell_type": "code",
   "execution_count": 32,
   "metadata": {
    "collapsed": false
   },
   "outputs": [
    {
     "name": "stdout",
     "output_type": "stream",
     "text": [
      "0.756\n"
     ]
    }
   ],
   "source": [
    "## Regenerate featuresets, with same order as before\n",
    "featuresets = [(gender_features2(n), g) for (n,g) in names]\n",
    "train_names, dev_names, test_names = names[0:500], names[500:1000], names[1000:]\n",
    "train_set, dev_set, test_set = featuresets[0:500], featuresets[500:1000], featuresets[1000:]\n",
    "classifier2 = nltk.NaiveBayesClassifier.train(train_set)\n",
    "print nltk.classify.accuracy(classifier2, dev_set)"
   ]
  },
  {
   "cell_type": "code",
   "execution_count": 24,
   "metadata": {
    "collapsed": false
   },
   "outputs": [
    {
     "name": "stdout",
     "output_type": "stream",
     "text": [
      "Most Informative Features\n",
      "              lastletter = u'o'             male : female =     16.7 : 1.0\n",
      "              lastletter = u't'             male : female =     13.0 : 1.0\n",
      "              lastletter = u'r'             male : female =     11.5 : 1.0\n",
      "                count(o) = 2                male : female =      6.5 : 1.0\n",
      "              lastletter = u'm'             male : female =      5.6 : 1.0\n",
      "              lastletter = u'd'             male : female =      5.2 : 1.0\n",
      "                count(a) = 2              female : male   =      5.2 : 1.0\n",
      "              lastletter = u'k'             male : female =      4.3 : 1.0\n",
      "             firstletter = u'z'             male : female =      4.3 : 1.0\n",
      "             firstletter = u'h'             male : female =      3.9 : 1.0\n"
     ]
    }
   ],
   "source": [
    "## counts of letters o and a appear important\n",
    "classifier2.show_most_informative_features(10)"
   ]
  },
  {
   "cell_type": "code",
   "execution_count": 27,
   "metadata": {
    "collapsed": false
   },
   "outputs": [
    {
     "name": "stdout",
     "output_type": "stream",
     "text": [
      "0.768\n"
     ]
    }
   ],
   "source": [
    "## Seeing what was important above, generate a new feature list without the 'has' function.\n",
    "## includes first letter, last letter, and counts of each letter\n",
    "def gender_features3(name):\n",
    "    features = {}\n",
    "    features[\"firstletter\"] = name[0].lower()\n",
    "    features[\"lastletter\"] = name[-1].lower()\n",
    "    for letter in 'abcdefghijklmnopqrstuvwxyz':\n",
    "        features[\"count(%s)\" % letter] = name.lower().count(letter)\n",
    "    return features\n",
    "## Regenerate featuresets, with same order as before\n",
    "featuresets = [(gender_features3(n), g) for (n,g) in names]\n",
    "train_set, dev_set, test_set = featuresets[0:500], featuresets[500:1000], featuresets[1000:]\n",
    "classifier3 = nltk.NaiveBayesClassifier.train(train_set)\n",
    "print nltk.classify.accuracy(classifier3, dev_set)"
   ]
  },
  {
   "cell_type": "code",
   "execution_count": 33,
   "metadata": {
    "collapsed": false
   },
   "outputs": [],
   "source": [
    "errors = []\n",
    "for (name, tag) in dev_names:\n",
    "    guess = classifier3.classify(gender_features(name))\n",
    "    if guess != tag:\n",
    "        errors.append( (tag, guess, name) )"
   ]
  },
  {
   "cell_type": "code",
   "execution_count": 35,
   "metadata": {
    "collapsed": false
   },
   "outputs": [
    {
     "name": "stdout",
     "output_type": "stream",
     "text": [
      "correct=male     guess=female   name=Aaron                         \n",
      "correct=male     guess=female   name=Abdulkarim                    \n",
      "correct=male     guess=female   name=Abelard                       \n",
      "correct=male     guess=female   name=Abraham                       \n",
      "correct=male     guess=female   name=Albert                        \n",
      "correct=male     guess=female   name=Alfredo                       \n",
      "correct=male     guess=female   name=Alphonso                      \n",
      "correct=male     guess=female   name=Andy                          \n",
      "correct=male     guess=female   name=Antoni                        \n",
      "correct=male     guess=female   name=Antonin                       \n",
      "correct=male     guess=female   name=Arthur                        \n",
      "correct=male     guess=female   name=Augusto                       \n",
      "correct=male     guess=female   name=Augustus                      \n",
      "correct=male     guess=female   name=Austen                        \n",
      "correct=male     guess=female   name=Avram                         \n",
      "correct=male     guess=female   name=Bartholemy                    \n",
      "correct=male     guess=female   name=Bartie                        \n",
      "correct=male     guess=female   name=Benjamen                      \n",
      "correct=male     guess=female   name=Bennett                       \n",
      "correct=male     guess=female   name=Bert                          \n",
      "correct=male     guess=female   name=Brett                         \n",
      "correct=male     guess=female   name=Calvin                        \n",
      "correct=male     guess=female   name=Case                          \n",
      "correct=male     guess=female   name=Charleton                     \n",
      "correct=male     guess=female   name=Chris                         \n",
      "correct=male     guess=female   name=Claire                        \n",
      "correct=male     guess=female   name=Clarke                        \n",
      "correct=male     guess=female   name=Claudio                       \n",
      "correct=male     guess=female   name=Clinton                       \n",
      "correct=male     guess=female   name=Curtice                       \n",
      "correct=male     guess=female   name=Cyrill                        \n",
      "correct=male     guess=female   name=Cyrille                       \n",
      "correct=male     guess=female   name=Damien                        \n",
      "correct=male     guess=female   name=Dana                          \n",
      "correct=male     guess=female   name=Dane                          \n",
      "correct=male     guess=female   name=Darcy                         \n",
      "correct=male     guess=female   name=Darrin                        \n",
      "correct=male     guess=female   name=Dave                          \n",
      "correct=male     guess=female   name=Davy                          \n",
      "correct=male     guess=female   name=Delmar                        \n",
      "correct=male     guess=female   name=Derek                         \n",
      "correct=male     guess=female   name=Derick                        \n",
      "correct=male     guess=female   name=Devon                         \n",
      "correct=male     guess=female   name=Dickey                        \n",
      "correct=male     guess=female   name=Duffy                         \n",
      "correct=male     guess=female   name=Dustin                        \n",
      "correct=male     guess=female   name=Edmund                        \n",
      "correct=male     guess=female   name=Ehud                          \n",
      "correct=male     guess=female   name=Elbert                        \n",
      "correct=male     guess=female   name=Elric                         \n",
      "correct=male     guess=female   name=Elwood                        \n",
      "correct=male     guess=female   name=Ender                         \n",
      "correct=male     guess=female   name=Englebart                     \n",
      "correct=male     guess=female   name=Erik                          \n",
      "correct=male     guess=female   name=Errol                         \n",
      "correct=male     guess=female   name=Eugene                        \n",
      "correct=male     guess=female   name=Fletch                        \n",
      "correct=male     guess=female   name=Fonsie                        \n",
      "correct=male     guess=female   name=Frederico                     \n",
      "correct=male     guess=female   name=Garcia                        \n",
      "correct=male     guess=female   name=Garvey                        \n",
      "correct=male     guess=female   name=Gary                          \n",
      "correct=male     guess=female   name=Gerhardt                      \n",
      "correct=male     guess=female   name=Grant                         \n",
      "correct=male     guess=female   name=Hale                          \n",
      "correct=male     guess=female   name=Harland                       \n",
      "correct=male     guess=female   name=Hart                          \n",
      "correct=male     guess=female   name=Harvard                       \n",
      "correct=male     guess=female   name=Heath                         \n",
      "correct=male     guess=female   name=Henderson                     \n",
      "correct=male     guess=female   name=Henry                         \n",
      "correct=male     guess=female   name=Hercule                       \n",
      "correct=male     guess=female   name=Hubert                        \n",
      "correct=male     guess=female   name=Iggy                          \n",
      "correct=male     guess=female   name=Ira                           \n",
      "correct=male     guess=female   name=Irving                        \n",
      "correct=male     guess=female   name=Isaiah                        \n",
      "correct=male     guess=female   name=Jan                           \n",
      "correct=male     guess=female   name=Jasper                        \n",
      "correct=male     guess=female   name=Jean-Lou                      \n",
      "correct=male     guess=female   name=Jefferey                      \n",
      "correct=male     guess=female   name=Jerry                         \n",
      "correct=male     guess=female   name=Joao                          \n",
      "correct=male     guess=female   name=Jodie                         \n",
      "correct=male     guess=female   name=John                          \n",
      "correct=male     guess=female   name=John-David                    \n",
      "correct=male     guess=female   name=Johnnie                       \n",
      "correct=male     guess=female   name=Jonny                         \n",
      "correct=male     guess=female   name=Jorge                         \n",
      "correct=male     guess=female   name=Julian                        \n",
      "correct=male     guess=female   name=Kalvin                        \n",
      "correct=male     guess=female   name=Kelwin                        \n",
      "correct=male     guess=female   name=Kevan                         \n",
      "correct=male     guess=female   name=Kingsly                       \n",
      "correct=male     guess=female   name=Kraig                         \n",
      "correct=male     guess=female   name=Laurance                      \n",
      "correct=male     guess=female   name=Leonerd                       \n",
      "correct=male     guess=female   name=Lionel                        \n",
      "correct=male     guess=female   name=Lou                           \n",
      "correct=male     guess=female   name=Luce                          \n",
      "correct=male     guess=female   name=Lucian                        \n",
      "correct=male     guess=female   name=Lucius                        \n",
      "correct=male     guess=female   name=Maison                        \n",
      "correct=male     guess=female   name=Marcellus                     \n",
      "correct=male     guess=female   name=Mario                         \n",
      "correct=male     guess=female   name=Marshal                       \n",
      "correct=male     guess=female   name=Matthaeus                     \n",
      "correct=male     guess=female   name=Mattheus                      \n",
      "correct=male     guess=female   name=Matthus                       \n",
      "correct=male     guess=female   name=Mayor                         \n",
      "correct=male     guess=female   name=Meredeth                      \n",
      "correct=male     guess=female   name=Michal                        \n",
      "correct=male     guess=female   name=Micheal                       \n",
      "correct=male     guess=female   name=Mike                          \n",
      "correct=male     guess=female   name=Miles                         \n",
      "correct=male     guess=female   name=Mohamad                       \n",
      "correct=male     guess=female   name=Montague                      \n",
      "correct=male     guess=female   name=Mort                          \n",
      "correct=male     guess=female   name=Murray                        \n",
      "correct=male     guess=female   name=Nat                           \n",
      "correct=male     guess=female   name=Nealon                        \n",
      "correct=male     guess=female   name=Nealson                       \n",
      "correct=male     guess=female   name=Neron                         \n",
      "correct=male     guess=female   name=Nester                        \n",
      "correct=male     guess=female   name=Nevin                         \n",
      "correct=male     guess=female   name=Nevins                        \n",
      "correct=male     guess=female   name=Norwood                       \n",
      "correct=male     guess=female   name=Obadiah                       \n",
      "correct=male     guess=female   name=Obie                          \n",
      "correct=male     guess=female   name=Orlando                       \n",
      "correct=male     guess=female   name=Orrin                         \n",
      "correct=male     guess=female   name=Patin                         \n",
      "correct=male     guess=female   name=Patty                         \n",
      "correct=male     guess=female   name=Pedro                         \n",
      "correct=male     guess=female   name=Pierson                       \n",
      "correct=male     guess=female   name=Pietro                        \n",
      "correct=male     guess=female   name=Rajeev                        \n",
      "correct=male     guess=female   name=Ram                           \n",
      "correct=male     guess=female   name=Raymund                       \n",
      "correct=male     guess=female   name=Reynold                       \n",
      "correct=male     guess=female   name=Roderic                       \n",
      "correct=male     guess=female   name=Roderick                      \n",
      "correct=male     guess=female   name=Rollo                         \n",
      "correct=male     guess=female   name=Ruperto                       \n",
      "correct=male     guess=female   name=Salim                         \n",
      "correct=male     guess=female   name=Salomone                      \n",
      "correct=male     guess=female   name=Saunders                      \n",
      "correct=male     guess=female   name=Sean                          \n",
      "correct=male     guess=female   name=Shannon                       \n",
      "correct=male     guess=female   name=Shelley                       \n",
      "correct=male     guess=female   name=Sheridan                      \n",
      "correct=male     guess=female   name=Sherwood                      \n",
      "correct=male     guess=female   name=Siward                        \n",
      "correct=male     guess=female   name=Sloan                         \n",
      "correct=male     guess=female   name=Sly                           \n",
      "correct=male     guess=female   name=Spenser                       \n",
      "correct=male     guess=female   name=Stacy                         \n",
      "correct=male     guess=female   name=Staffard                      \n",
      "correct=male     guess=female   name=Stew                          \n",
      "correct=male     guess=female   name=Tab                           \n",
      "correct=male     guess=female   name=Tarrance                      \n",
      "correct=male     guess=female   name=Terencio                      \n",
      "correct=male     guess=female   name=Thain                         \n",
      "correct=male     guess=female   name=Thane                         \n",
      "correct=male     guess=female   name=Thorstein                     \n",
      "correct=male     guess=female   name=Tiebold                       \n",
      "correct=male     guess=female   name=Tobias                        \n",
      "correct=male     guess=female   name=Tobie                         \n",
      "correct=male     guess=female   name=Todd                          \n",
      "correct=male     guess=female   name=Tommy                         \n",
      "correct=male     guess=female   name=Tony                          \n",
      "correct=male     guess=female   name=Tore                          \n",
      "correct=male     guess=female   name=Trace                         \n",
      "correct=male     guess=female   name=Travers                       \n",
      "correct=male     guess=female   name=Tyrus                         \n",
      "correct=male     guess=female   name=Umberto                       \n",
      "correct=male     guess=female   name=Vernon                        \n",
      "correct=male     guess=female   name=Vinny                         \n",
      "correct=male     guess=female   name=Wade                          \n",
      "correct=male     guess=female   name=Wallache                      \n",
      "correct=male     guess=female   name=Wally                         \n",
      "correct=male     guess=female   name=Walther                       \n",
      "correct=male     guess=female   name=Wang                          \n",
      "correct=male     guess=female   name=Way                           \n",
      "correct=male     guess=female   name=Weidar                        \n",
      "correct=male     guess=female   name=Welsh                         \n",
      "correct=male     guess=female   name=Weston                        \n",
      "correct=male     guess=female   name=Wilburt                       \n",
      "correct=male     guess=female   name=Wilton                        \n",
      "correct=male     guess=female   name=Wolf                          \n",
      "correct=male     guess=female   name=Wolfie                        \n",
      "correct=male     guess=female   name=Woody                         \n",
      "correct=male     guess=female   name=Worden                        \n",
      "correct=male     guess=female   name=Worthy                        \n",
      "correct=male     guess=female   name=Yank                          \n",
      "correct=male     guess=female   name=Yehudi                        \n",
      "correct=male     guess=female   name=Yuri                          \n",
      "correct=male     guess=female   name=Yves                          \n",
      "correct=male     guess=female   name=Zed                           \n",
      "correct=male     guess=female   name=Zedekiah                      \n"
     ]
    }
   ],
   "source": [
    "## it guess a lot of male name as females.\n",
    "for (tag, guess, name) in sorted(errors): # doctest: +ELLIPSIS +NORMALIZE_WHITESPACE\n",
    "    print 'correct=%-8s guess=%-8s name=%-30s' %(tag, guess, name)"
   ]
  },
  {
   "cell_type": "code",
   "execution_count": 128,
   "metadata": {
    "collapsed": true
   },
   "outputs": [],
   "source": [
    "## Lets make a function for generating a new dev and train set, while keeping the same test set\n",
    "def getNewSets(names, gender_features):\n",
    "    n = copy.deepcopy(names)\n",
    "    n = n[0:1000]\n",
    "    n = sorted(n, key=lambda k: random.random())\n",
    "    namesnew = n + names[1000:]\n",
    "    featuresets = [(gender_features(n), g) for (n,g) in namesnew]\n",
    "    train_names, dev_names, test_names = names[0:500], names[500:1000], names[1000:]\n",
    "    train_set, dev_set, test_set = featuresets[0:500], featuresets[500:1000], featuresets[1000:]\n",
    "    return train_names, dev_names, test_names,train_set, dev_set, test_set"
   ]
  },
  {
   "cell_type": "code",
   "execution_count": 126,
   "metadata": {
    "collapsed": false
   },
   "outputs": [],
   "source": [
    "##looks at a combination of first and last letter\n",
    "def gender_features4(name):\n",
    "    features = {}\n",
    "    features[\"firstletter\"] = name[0].lower()\n",
    "    features[\"lastletter\"] = name[-1].lower()\n",
    "    features[\"firstAndLast\"] = name[0].lower() + name[-1].lower()\n",
    "    for letter in 'abcdefghijklmnopqrstuvwxyz':\n",
    "        features[\"count(%s)\" % letter] = name.lower().count(letter)\n",
    "    return features\n",
    "## Regenerate featuresets, with same order as before"
   ]
  },
  {
   "cell_type": "code",
   "execution_count": 129,
   "metadata": {
    "collapsed": false
   },
   "outputs": [],
   "source": [
    "train_names, dev_names, test_names,train_set, dev_set, test_set = getNewSets(names, gender_features4)"
   ]
  },
  {
   "cell_type": "code",
   "execution_count": 130,
   "metadata": {
    "collapsed": false
   },
   "outputs": [
    {
     "name": "stdout",
     "output_type": "stream",
     "text": [
      "0.75\n"
     ]
    }
   ],
   "source": [
    "## this is worse\n",
    "classifier4 = nltk.NaiveBayesClassifier.train(train_set)\n",
    "print nltk.classify.accuracy(classifier4, dev_set)"
   ]
  },
  {
   "cell_type": "code",
   "execution_count": 131,
   "metadata": {
    "collapsed": true
   },
   "outputs": [],
   "source": [
    "##looks at a combination of first two letters\n",
    "def gender_features5(name):\n",
    "    features = {}\n",
    "    features[\"firstletter\"] = name[0].lower()\n",
    "    features[\"lastletter\"] = name[-1].lower()\n",
    "    features[\"twofirst\"] = name[0].lower() + name[1].lower()\n",
    "    for letter in 'abcdefghijklmnopqrstuvwxyz':\n",
    "        features[\"count(%s)\" % letter] = name.lower().count(letter)\n",
    "    return features\n"
   ]
  },
  {
   "cell_type": "code",
   "execution_count": 132,
   "metadata": {
    "collapsed": false
   },
   "outputs": [
    {
     "name": "stdout",
     "output_type": "stream",
     "text": [
      "0.724\n"
     ]
    }
   ],
   "source": [
    "## and still worse\n",
    "train_names, dev_names, test_names,train_set, dev_set, test_set = getNewSets(names, gender_features5)\n",
    "classifier5 = nltk.NaiveBayesClassifier.train(train_set)\n",
    "print nltk.classify.accuracy(classifier5, dev_set)"
   ]
  },
  {
   "cell_type": "code",
   "execution_count": 138,
   "metadata": {
    "collapsed": false
   },
   "outputs": [
    {
     "name": "stdout",
     "output_type": "stream",
     "text": [
      "0.782\n"
     ]
    }
   ],
   "source": [
    "## as you can see, version 3 is better even afer re-randomizing\n",
    "train_names, dev_names, test_names,train_set, dev_set, test_set = getNewSets(names, gender_features3)\n",
    "classifier3 = nltk.NaiveBayesClassifier.train(train_set)\n",
    "print nltk.classify.accuracy(classifier3, dev_set)"
   ]
  },
  {
   "cell_type": "code",
   "execution_count": 135,
   "metadata": {
    "collapsed": true
   },
   "outputs": [],
   "source": [
    "##looks at a combination of first two letters\n",
    "def gender_features6(name):\n",
    "    features = {}\n",
    "    features[\"firstletter\"] = name[0].lower()\n",
    "    features[\"lastletter\"] = name[-1].lower()\n",
    "    features[\"twolast\"] = name[-2].lower() + name[-1].lower()\n",
    "    for letter in 'abcdefghijklmnopqrstuvwxyz':\n",
    "        features[\"count(%s)\" % letter] = name.lower().count(letter)\n",
    "    return features\n"
   ]
  },
  {
   "cell_type": "code",
   "execution_count": 139,
   "metadata": {
    "collapsed": false
   },
   "outputs": [
    {
     "name": "stdout",
     "output_type": "stream",
     "text": [
      "0.78\n"
     ]
    }
   ],
   "source": [
    "## this really has no improvement\n",
    "train_names, dev_names, test_names,train_set, dev_set, test_set = getNewSets(names, gender_features6)\n",
    "classifier6 = nltk.NaiveBayesClassifier.train(train_set)\n",
    "print nltk.classify.accuracy(classifier6, dev_set)"
   ]
  },
  {
   "cell_type": "code",
   "execution_count": 141,
   "metadata": {
    "collapsed": true
   },
   "outputs": [],
   "source": [
    "##include second to last\n",
    "def gender_features7(name):\n",
    "    features = {}\n",
    "    features[\"firstletter\"] = name[0].lower()\n",
    "    features[\"lastletter\"] = name[-1].lower()\n",
    "    features[\"secondToLast\"] = name[-2].lower() \n",
    "    for letter in 'abcdefghijklmnopqrstuvwxyz':\n",
    "        features[\"count(%s)\" % letter] = name.lower().count(letter)\n",
    "    return features\n"
   ]
  },
  {
   "cell_type": "code",
   "execution_count": 144,
   "metadata": {
    "collapsed": false
   },
   "outputs": [
    {
     "name": "stdout",
     "output_type": "stream",
     "text": [
      "0.772\n"
     ]
    }
   ],
   "source": [
    "## this really has no improvement either\n",
    "train_names, dev_names, test_names,train_set, dev_set, test_set = getNewSets(names, gender_features7)\n",
    "classifier7 = nltk.NaiveBayesClassifier.train(train_set)\n",
    "print nltk.classify.accuracy(classifier7, dev_set)"
   ]
  },
  {
   "cell_type": "code",
   "execution_count": null,
   "metadata": {
    "collapsed": true
   },
   "outputs": [],
   "source": []
  },
  {
   "cell_type": "code",
   "execution_count": null,
   "metadata": {
    "collapsed": true
   },
   "outputs": [],
   "source": []
  },
  {
   "cell_type": "markdown",
   "metadata": {},
   "source": [
    "So at this point, version 3 appears to do as good as any, with ~77-78%. Still, names like Dave and Mike are assigned incorrectly."
   ]
  }
 ],
 "metadata": {
  "anaconda-cloud": {},
  "kernelspec": {
   "display_name": "Python [Root]",
   "language": "python",
   "name": "Python [Root]"
  },
  "language_info": {
   "codemirror_mode": {
    "name": "ipython",
    "version": 2
   },
   "file_extension": ".py",
   "mimetype": "text/x-python",
   "name": "python",
   "nbconvert_exporter": "python",
   "pygments_lexer": "ipython2",
   "version": "2.7.12"
  }
 },
 "nbformat": 4,
 "nbformat_minor": 0
}
