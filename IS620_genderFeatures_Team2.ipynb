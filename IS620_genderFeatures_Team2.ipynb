{
 "cells": [
  {
   "cell_type": "code",
   "execution_count": 5,
   "metadata": {
    "collapsed": true
   },
   "outputs": [],
   "source": [
    "import nltk \n",
    "from nltk.corpus import names\n",
    "import random\n",
    "import copy"
   ]
  },
  {
   "cell_type": "code",
   "execution_count": 6,
   "metadata": {
    "collapsed": true
   },
   "outputs": [],
   "source": [
    "def gender_features(word):\n",
    "    return {'last_letter': word[-1]}"
   ]
  },
  {
   "cell_type": "code",
   "execution_count": 7,
   "metadata": {
    "collapsed": false
   },
   "outputs": [],
   "source": [
    "names = ([(name, 'male') for name in names.words('male.txt')] + [(name, 'female') for name in names.words('female.txt')])\n",
    "random.shuffle(names)"
   ]
  },
  {
   "cell_type": "code",
   "execution_count": 8,
   "metadata": {
    "collapsed": false
   },
   "outputs": [
    {
     "name": "stdout",
     "output_type": "stream",
     "text": [
      "[(u'Page', 'female'), (u'Prent', 'male'), (u'Annalise', 'female'), (u'Janetta', 'female'), (u'Omar', 'male'), (u'Kent', 'male'), (u'Gretta', 'female'), (u'Cami', 'female'), (u'Alister', 'male'), (u'Ambrose', 'male')]\n",
      "7944\n"
     ]
    }
   ],
   "source": [
    "## So now we have a list of string tuples, names and gender.  \n",
    "print (names[:10])\n",
    "print len(names)"
   ]
  },
  {
   "cell_type": "code",
   "execution_count": 9,
   "metadata": {
    "collapsed": false
   },
   "outputs": [],
   "source": [
    "## Broken down as in the book\n",
    "featuresets = [(gender_features(n), g) for (n,g) in names]\n",
    "train_set, test_set = featuresets[500:], featuresets[:500]\n",
    "classifier = nltk.NaiveBayesClassifier.train(train_set)"
   ]
  },
  {
   "cell_type": "code",
   "execution_count": 10,
   "metadata": {
    "collapsed": false
   },
   "outputs": [
    {
     "name": "stdout",
     "output_type": "stream",
     "text": [
      "0.764\n"
     ]
    }
   ],
   "source": [
    "print nltk.classify.accuracy(classifier, test_set)"
   ]
  },
  {
   "cell_type": "code",
   "execution_count": 11,
   "metadata": {
    "collapsed": true
   },
   "outputs": [],
   "source": [
    "## Broken down as request for project 3\n",
    "train_set, dev_set, test_set = featuresets[0:500], featuresets[500:1000], featuresets[1000:]\n",
    "classifier = nltk.NaiveBayesClassifier.train(train_set)"
   ]
  },
  {
   "cell_type": "code",
   "execution_count": 12,
   "metadata": {
    "collapsed": false
   },
   "outputs": [
    {
     "name": "stdout",
     "output_type": "stream",
     "text": [
      "500\n",
      "500\n",
      "6944\n"
     ]
    }
   ],
   "source": [
    "#check the lengths\n",
    "print len(train_set)\n",
    "print len(dev_set)\n",
    "print len(test_set)"
   ]
  },
  {
   "cell_type": "code",
   "execution_count": 13,
   "metadata": {
    "collapsed": false
   },
   "outputs": [
    {
     "name": "stdout",
     "output_type": "stream",
     "text": [
      "0.754\n"
     ]
    }
   ],
   "source": [
    "## check accuracy of the dev_set\n",
    "print nltk.classify.accuracy(classifier, dev_set)"
   ]
  },
  {
   "cell_type": "code",
   "execution_count": 14,
   "metadata": {
    "collapsed": false
   },
   "outputs": [
    {
     "name": "stdout",
     "output_type": "stream",
     "text": [
      "Most Informative Features\n",
      "             last_letter = u'o'             male : female =     16.7 : 1.0\n",
      "             last_letter = u't'             male : female =     13.0 : 1.0\n",
      "             last_letter = u'r'             male : female =     11.5 : 1.0\n",
      "             last_letter = u'm'             male : female =      5.6 : 1.0\n",
      "             last_letter = u'd'             male : female =      5.2 : 1.0\n"
     ]
    }
   ],
   "source": [
    "## Note these features are different from those in the text\n",
    "classifier.show_most_informative_features(5)"
   ]
  },
  {
   "cell_type": "code",
   "execution_count": 14,
   "metadata": {
    "collapsed": false
   },
   "outputs": [],
   "source": [
    "## includes first letter, last letter, has letter, and counts of each letter\n",
    "def gender_features2(name):\n",
    "    features = {}\n",
    "    features[\"firstletter\"] = name[0].lower()\n",
    "    features[\"lastletter\"] = name[-1].lower()\n",
    "    for letter in 'abcdefghijklmnopqrstuvwxyz':\n",
    "        features[\"count(%s)\" % letter] = name.lower().count(letter)\n",
    "        features[\"has(%s)\" % letter] = (letter in name.lower())\n",
    "    return features"
   ]
  },
  {
   "cell_type": "code",
   "execution_count": 15,
   "metadata": {
    "collapsed": false
   },
   "outputs": [
    {
     "name": "stdout",
     "output_type": "stream",
     "text": [
      "0.742\n"
     ]
    }
   ],
   "source": [
    "## Regenerate featuresets, with same order as before\n",
    "featuresets = [(gender_features2(n), g) for (n,g) in names]\n",
    "train_names, dev_names, test_names = names[0:500], names[500:1000], names[1000:]\n",
    "train_set, dev_set, test_set = featuresets[0:500], featuresets[500:1000], featuresets[1000:]\n",
    "classifier2 = nltk.NaiveBayesClassifier.train(train_set)\n",
    "print nltk.classify.accuracy(classifier2, dev_set)"
   ]
  },
  {
   "cell_type": "code",
   "execution_count": 16,
   "metadata": {
    "collapsed": false
   },
   "outputs": [
    {
     "name": "stdout",
     "output_type": "stream",
     "text": [
      "Most Informative Features\n",
      "              lastletter = u'a'           female : male   =     29.7 : 1.0\n",
      "              lastletter = u'r'             male : female =     16.5 : 1.0\n",
      "              lastletter = u't'             male : female =      8.0 : 1.0\n",
      "              lastletter = u's'             male : female =      5.9 : 1.0\n",
      "              lastletter = u'o'             male : female =      5.9 : 1.0\n",
      "                count(e) = 3              female : male   =      5.5 : 1.0\n",
      "              lastletter = u'd'             male : female =      5.3 : 1.0\n",
      "                count(h) = 2                male : female =      4.9 : 1.0\n",
      "                count(w) = 1                male : female =      4.6 : 1.0\n",
      "                count(i) = 2              female : male   =      4.5 : 1.0\n"
     ]
    }
   ],
   "source": [
    "## counts of letters o and a appear important\n",
    "classifier2.show_most_informative_features(10)"
   ]
  },
  {
   "cell_type": "code",
   "execution_count": 33,
   "metadata": {
    "collapsed": false
   },
   "outputs": [
    {
     "name": "stdout",
     "output_type": "stream",
     "text": [
      "0.764\n"
     ]
    }
   ],
   "source": [
    "## Seeing what was important above, generate a new feature list without the 'has' function.\n",
    "## includes first letter, last letter, and counts of each letter\n",
    "def gender_features3(name):\n",
    "    m=int(round(len(name)/2))\n",
    "    midletter = name[m].lower()\n",
    "    features = {}\n",
    "    features['first_letter']  =  name[0].lower()\n",
    "    features['middle_letter'] =  midletter \n",
    "    features['last_letter']   =  name[-1].lower()\n",
    "    return features\n",
    "## Regenerate featuresets, with same order as before\n",
    "featuresets = [(gender_features3(n), g) for (n,g) in names]\n",
    "train_set, dev_set, test_set = featuresets[0:500], featuresets[500:1000], featuresets[1000:]\n",
    "classifier3 = nltk.NaiveBayesClassifier.train(train_set)\n",
    "print nltk.classify.accuracy(classifier3, dev_set)"
   ]
  },
  {
   "cell_type": "code",
   "execution_count": 18,
   "metadata": {
    "collapsed": false
   },
   "outputs": [],
   "source": [
    "errors = []\n",
    "for (name, tag) in dev_names:\n",
    "    guess = classifier3.classify(gender_features(name))\n",
    "    if guess != tag:\n",
    "        errors.append( (tag, guess, name) )"
   ]
  },
  {
   "cell_type": "code",
   "execution_count": 19,
   "metadata": {
    "collapsed": false
   },
   "outputs": [
    {
     "name": "stdout",
     "output_type": "stream",
     "text": [
      "correct=male     guess=female   name=Alberto                       \n",
      "correct=male     guess=female   name=Alic                          \n",
      "correct=male     guess=female   name=Allan                         \n",
      "correct=male     guess=female   name=Aloysius                      \n",
      "correct=male     guess=female   name=Alston                        \n",
      "correct=male     guess=female   name=Amery                         \n",
      "correct=male     guess=female   name=Antin                         \n",
      "correct=male     guess=female   name=Antonius                      \n",
      "correct=male     guess=female   name=Ariel                         \n",
      "correct=male     guess=female   name=Artur                         \n",
      "correct=male     guess=female   name=Arvin                         \n",
      "correct=male     guess=female   name=Ave                           \n",
      "correct=male     guess=female   name=Avery                         \n",
      "correct=male     guess=female   name=Barde                         \n",
      "correct=male     guess=female   name=Barnett                       \n",
      "correct=male     guess=female   name=Barney                        \n",
      "correct=male     guess=female   name=Barny                         \n",
      "correct=male     guess=female   name=Benito                        \n",
      "correct=male     guess=female   name=Berkley                       \n",
      "correct=male     guess=female   name=Bertie                        \n",
      "correct=male     guess=female   name=Binky                         \n",
      "correct=male     guess=female   name=Blare                         \n",
      "correct=male     guess=female   name=Bobby                         \n",
      "correct=male     guess=female   name=Boris                         \n",
      "correct=male     guess=female   name=Brad                          \n",
      "correct=male     guess=female   name=Brock                         \n",
      "correct=male     guess=female   name=Bruno                         \n",
      "correct=male     guess=female   name=Bryn                          \n",
      "correct=male     guess=female   name=Buster                        \n",
      "correct=male     guess=female   name=Byron                         \n",
      "correct=male     guess=female   name=Christian                     \n",
      "correct=male     guess=female   name=Christiano                    \n",
      "correct=male     guess=female   name=Christof                      \n",
      "correct=male     guess=female   name=Clancy                        \n",
      "correct=male     guess=female   name=Clayborn                      \n",
      "correct=male     guess=female   name=Clifton                       \n",
      "correct=male     guess=female   name=Clinten                       \n",
      "correct=male     guess=female   name=Colin                         \n",
      "correct=male     guess=female   name=Cosmo                         \n",
      "correct=male     guess=female   name=Demosthenis                   \n",
      "correct=male     guess=female   name=Diego                         \n",
      "correct=male     guess=female   name=Dimitrou                      \n",
      "correct=male     guess=female   name=Doug                          \n",
      "correct=male     guess=female   name=Dru                           \n",
      "correct=male     guess=female   name=Dustin                        \n",
      "correct=male     guess=female   name=Dwain                         \n",
      "correct=male     guess=female   name=Earl                          \n",
      "correct=male     guess=female   name=Ebeneser                      \n",
      "correct=male     guess=female   name=Edmund                        \n",
      "correct=male     guess=female   name=Elric                         \n",
      "correct=male     guess=female   name=Esau                          \n",
      "correct=male     guess=female   name=Fonzie                        \n",
      "correct=male     guess=female   name=Francois                      \n",
      "correct=male     guess=female   name=Gabriello                     \n",
      "correct=male     guess=female   name=Garwood                       \n",
      "correct=male     guess=female   name=Geoffrey                      \n",
      "correct=male     guess=female   name=Gerome                        \n",
      "correct=male     guess=female   name=Gilles                        \n",
      "correct=male     guess=female   name=Glenn                         \n",
      "correct=male     guess=female   name=Godfrey                       \n",
      "correct=male     guess=female   name=Graig                         \n",
      "correct=male     guess=female   name=Gunner                        \n",
      "correct=male     guess=female   name=Gunther                       \n",
      "correct=male     guess=female   name=Hadleigh                      \n",
      "correct=male     guess=female   name=Hamil                         \n",
      "correct=male     guess=female   name=Haskell                       \n",
      "correct=male     guess=female   name=Henrie                        \n",
      "correct=male     guess=female   name=Herbie                        \n",
      "correct=male     guess=female   name=Herman                        \n",
      "correct=male     guess=female   name=Herold                        \n",
      "correct=male     guess=female   name=Hewie                         \n",
      "correct=male     guess=female   name=Hoyt                          \n",
      "correct=male     guess=female   name=Hubert                        \n",
      "correct=male     guess=female   name=Hy                            \n",
      "correct=male     guess=female   name=Iggie                         \n",
      "correct=male     guess=female   name=Ignatius                      \n",
      "correct=male     guess=female   name=Ismail                        \n",
      "correct=male     guess=female   name=Jakob                         \n",
      "correct=male     guess=female   name=Jean-Francois                 \n",
      "correct=male     guess=female   name=Jens                          \n",
      "correct=male     guess=female   name=Jermain                       \n",
      "correct=male     guess=female   name=Jermayne                      \n",
      "correct=male     guess=female   name=Joachim                       \n",
      "correct=male     guess=female   name=Jonny                         \n",
      "correct=male     guess=female   name=Joseph                        \n",
      "correct=male     guess=female   name=Jud                           \n",
      "correct=male     guess=female   name=Lane                          \n",
      "correct=male     guess=female   name=Laurence                      \n",
      "correct=male     guess=female   name=Layton                        \n",
      "correct=male     guess=female   name=Lefty                         \n",
      "correct=male     guess=female   name=Lemmy                         \n",
      "correct=male     guess=female   name=Leon                          \n",
      "correct=male     guess=female   name=Luciano                       \n",
      "correct=male     guess=female   name=Mack                          \n",
      "correct=male     guess=female   name=Marshal                       \n",
      "correct=male     guess=female   name=Martyn                        \n",
      "correct=male     guess=female   name=Merill                        \n",
      "correct=male     guess=female   name=Mohammed                      \n",
      "correct=male     guess=female   name=Morlee                        \n",
      "correct=male     guess=female   name=Murray                        \n",
      "correct=male     guess=female   name=Mustafa                       \n",
      "correct=male     guess=female   name=Napoleon                      \n",
      "correct=male     guess=female   name=Nevile                        \n",
      "correct=male     guess=female   name=Nichole                       \n",
      "correct=male     guess=female   name=Nickie                        \n",
      "correct=male     guess=female   name=Olivier                       \n",
      "correct=male     guess=female   name=Oren                          \n",
      "correct=male     guess=female   name=Orton                         \n",
      "correct=male     guess=female   name=Osmund                        \n",
      "correct=male     guess=female   name=Othello                       \n",
      "correct=male     guess=female   name=Otis                          \n",
      "correct=male     guess=female   name=Ozzy                          \n",
      "correct=male     guess=female   name=Paten                         \n",
      "correct=male     guess=female   name=Patrik                        \n",
      "correct=male     guess=female   name=Pen                           \n",
      "correct=male     guess=female   name=Penn                          \n",
      "correct=male     guess=female   name=Pepe                          \n",
      "correct=male     guess=female   name=Petey                         \n",
      "correct=male     guess=female   name=Peyton                        \n",
      "correct=male     guess=female   name=Philbert                      \n",
      "correct=male     guess=female   name=Phillip                       \n",
      "correct=male     guess=female   name=Plato                         \n",
      "correct=male     guess=female   name=Prescott                      \n",
      "correct=male     guess=female   name=Quent                         \n",
      "correct=male     guess=female   name=Quiggly                       \n",
      "correct=male     guess=female   name=Quillan                       \n",
      "correct=male     guess=female   name=Ralf                          \n",
      "correct=male     guess=female   name=Rees                          \n",
      "correct=male     guess=female   name=Rickey                        \n",
      "correct=male     guess=female   name=Rinaldo                       \n",
      "correct=male     guess=female   name=Roarke                        \n",
      "correct=male     guess=female   name=Roderick                      \n",
      "correct=male     guess=female   name=Rolf                          \n",
      "correct=male     guess=female   name=Rudolf                        \n",
      "correct=male     guess=female   name=Rupert                        \n",
      "correct=male     guess=female   name=Salvatore                     \n",
      "correct=male     guess=female   name=Sammy                         \n",
      "correct=male     guess=female   name=Sandy                         \n",
      "correct=male     guess=female   name=Sergei                        \n",
      "correct=male     guess=female   name=Seymour                       \n",
      "correct=male     guess=female   name=Shamus                        \n",
      "correct=male     guess=female   name=Shaughn                       \n",
      "correct=male     guess=female   name=Shayne                        \n",
      "correct=male     guess=female   name=Shepperd                      \n",
      "correct=male     guess=female   name=Sherlock                      \n",
      "correct=male     guess=female   name=Shumeet                       \n",
      "correct=male     guess=female   name=Shurlock                      \n",
      "correct=male     guess=female   name=Silvan                        \n",
      "correct=male     guess=female   name=Silvanus                      \n",
      "correct=male     guess=female   name=Simeon                        \n",
      "correct=male     guess=female   name=Spenser                       \n",
      "correct=male     guess=female   name=Stanwood                      \n",
      "correct=male     guess=female   name=Stephan                       \n",
      "correct=male     guess=female   name=Tabb                          \n",
      "correct=male     guess=female   name=Tanny                         \n",
      "correct=male     guess=female   name=Terrance                      \n",
      "correct=male     guess=female   name=Thibaud                       \n",
      "correct=male     guess=female   name=Thom                          \n",
      "correct=male     guess=female   name=Tim                           \n",
      "correct=male     guess=female   name=Timmy                         \n",
      "correct=male     guess=female   name=Tom                           \n",
      "correct=male     guess=female   name=Torrance                      \n",
      "correct=male     guess=female   name=Torrey                        \n",
      "correct=male     guess=female   name=Townie                        \n",
      "correct=male     guess=female   name=Tray                          \n",
      "correct=male     guess=female   name=Tre                           \n",
      "correct=male     guess=female   name=Tremaine                      \n",
      "correct=male     guess=female   name=Udell                         \n",
      "correct=male     guess=female   name=Ugo                           \n",
      "correct=male     guess=female   name=Uli                           \n",
      "correct=male     guess=female   name=Urbanus                       \n",
      "correct=male     guess=female   name=Uri                           \n",
      "correct=male     guess=female   name=Vail                          \n",
      "correct=male     guess=female   name=Val                           \n",
      "correct=male     guess=female   name=Vassily                       \n",
      "correct=male     guess=female   name=Vinod                         \n",
      "correct=male     guess=female   name=Wallie                        \n",
      "correct=male     guess=female   name=Wat                           \n",
      "correct=male     guess=female   name=Wayne                         \n",
      "correct=male     guess=female   name=Web                           \n",
      "correct=male     guess=female   name=Wendel                        \n",
      "correct=male     guess=female   name=Whitby                        \n",
      "correct=male     guess=female   name=Winthrop                      \n",
      "correct=male     guess=female   name=Wit                           \n",
      "correct=male     guess=female   name=Witold                        \n",
      "correct=male     guess=female   name=Wynn                          \n",
      "correct=male     guess=female   name=Zary                          \n",
      "correct=male     guess=female   name=Zorro                         \n"
     ]
    }
   ],
   "source": [
    "## it guess a lot of male name as females.\n",
    "for (tag, guess, name) in sorted(errors): # doctest: +ELLIPSIS +NORMALIZE_WHITESPACE\n",
    "    print 'correct=%-8s guess=%-8s name=%-30s' %(tag, guess, name)"
   ]
  },
  {
   "cell_type": "code",
   "execution_count": 20,
   "metadata": {
    "collapsed": true
   },
   "outputs": [],
   "source": [
    "## Lets make a function for generating a new dev and train set, while keeping the same test set\n",
    "def getNewSets(names, gender_features):\n",
    "    n = copy.deepcopy(names)\n",
    "    n = n[0:1000]\n",
    "    n = sorted(n, key=lambda k: random.random())\n",
    "    namesnew = n + names[1000:]\n",
    "    featuresets = [(gender_features(n), g) for (n,g) in namesnew]\n",
    "    train_names, dev_names, test_names = names[0:500], names[500:1000], names[1000:]\n",
    "    train_set, dev_set, test_set = featuresets[0:500], featuresets[500:1000], featuresets[1000:]\n",
    "    return train_names, dev_names, test_names,train_set, dev_set, test_set"
   ]
  },
  {
   "cell_type": "code",
   "execution_count": 21,
   "metadata": {
    "collapsed": false
   },
   "outputs": [],
   "source": [
    "##looks at a combination of first and last letter\n",
    "def gender_features4(name):\n",
    "    features = {}\n",
    "    features[\"firstletter\"] = name[0].lower()\n",
    "    features[\"lastletter\"] = name[-1].lower()\n",
    "    features[\"firstAndLast\"] = name[0].lower() + name[-1].lower()\n",
    "    for letter in 'abcdefghijklmnopqrstuvwxyz':\n",
    "        features[\"count(%s)\" % letter] = name.lower().count(letter)\n",
    "    return features\n",
    "## Regenerate featuresets, with same order as before"
   ]
  },
  {
   "cell_type": "code",
   "execution_count": 22,
   "metadata": {
    "collapsed": false
   },
   "outputs": [],
   "source": [
    "train_names, dev_names, test_names,train_set, dev_set, test_set = getNewSets(names, gender_features4)"
   ]
  },
  {
   "cell_type": "code",
   "execution_count": 23,
   "metadata": {
    "collapsed": false
   },
   "outputs": [
    {
     "name": "stdout",
     "output_type": "stream",
     "text": [
      "0.756\n"
     ]
    }
   ],
   "source": [
    "## this is worse\n",
    "classifier4 = nltk.NaiveBayesClassifier.train(train_set)\n",
    "print nltk.classify.accuracy(classifier4, dev_set)"
   ]
  },
  {
   "cell_type": "code",
   "execution_count": 24,
   "metadata": {
    "collapsed": true
   },
   "outputs": [],
   "source": [
    "##looks at a combination of first two letters\n",
    "def gender_features5(name):\n",
    "    features = {}\n",
    "    features[\"firstletter\"] = name[0].lower()\n",
    "    features[\"lastletter\"] = name[-1].lower()\n",
    "    features[\"twofirst\"] = name[0].lower() + name[1].lower()\n",
    "    for letter in 'abcdefghijklmnopqrstuvwxyz':\n",
    "        features[\"count(%s)\" % letter] = name.lower().count(letter)\n",
    "    return features\n"
   ]
  },
  {
   "cell_type": "code",
   "execution_count": 25,
   "metadata": {
    "collapsed": false
   },
   "outputs": [
    {
     "name": "stdout",
     "output_type": "stream",
     "text": [
      "0.758\n"
     ]
    }
   ],
   "source": [
    "## and still worse\n",
    "train_names, dev_names, test_names,train_set, dev_set, test_set = getNewSets(names, gender_features5)\n",
    "classifier5 = nltk.NaiveBayesClassifier.train(train_set)\n",
    "print nltk.classify.accuracy(classifier5, dev_set)"
   ]
  },
  {
   "cell_type": "code",
   "execution_count": 26,
   "metadata": {
    "collapsed": false
   },
   "outputs": [
    {
     "name": "stdout",
     "output_type": "stream",
     "text": [
      "0.77\n"
     ]
    }
   ],
   "source": [
    "## as you can see, version 3 is better even afer re-randomizing\n",
    "train_names, dev_names, test_names,train_set, dev_set, test_set = getNewSets(names, gender_features3)\n",
    "classifier3 = nltk.NaiveBayesClassifier.train(train_set)\n",
    "print nltk.classify.accuracy(classifier3, dev_set)"
   ]
  },
  {
   "cell_type": "code",
   "execution_count": 27,
   "metadata": {
    "collapsed": true
   },
   "outputs": [],
   "source": [
    "##looks at a combination of first two letters\n",
    "def gender_features6(name):\n",
    "    features = {}\n",
    "    features[\"firstletter\"] = name[0].lower()\n",
    "    features[\"lastletter\"] = name[-1].lower()\n",
    "    features[\"twolast\"] = name[-2].lower() + name[-1].lower()\n",
    "    for letter in 'abcdefghijklmnopqrstuvwxyz':\n",
    "        features[\"count(%s)\" % letter] = name.lower().count(letter)\n",
    "    return features\n"
   ]
  },
  {
   "cell_type": "code",
   "execution_count": 28,
   "metadata": {
    "collapsed": false
   },
   "outputs": [
    {
     "name": "stdout",
     "output_type": "stream",
     "text": [
      "0.746\n"
     ]
    }
   ],
   "source": [
    "## this really has no improvement\n",
    "train_names, dev_names, test_names,train_set, dev_set, test_set = getNewSets(names, gender_features6)\n",
    "classifier6 = nltk.NaiveBayesClassifier.train(train_set)\n",
    "print nltk.classify.accuracy(classifier6, dev_set)"
   ]
  },
  {
   "cell_type": "code",
   "execution_count": 29,
   "metadata": {
    "collapsed": true
   },
   "outputs": [],
   "source": [
    "##include second to last\n",
    "def gender_features7(name):\n",
    "    features = {}\n",
    "    features[\"firstletter\"] = name[0].lower()\n",
    "    features[\"lastletter\"] = name[-1].lower()\n",
    "    features[\"secondToLast\"] = name[-2].lower() \n",
    "    for letter in 'abcdefghijklmnopqrstuvwxyz':\n",
    "        features[\"count(%s)\" % letter] = name.lower().count(letter)\n",
    "    return features\n"
   ]
  },
  {
   "cell_type": "code",
   "execution_count": 30,
   "metadata": {
    "collapsed": false
   },
   "outputs": [
    {
     "name": "stdout",
     "output_type": "stream",
     "text": [
      "0.77\n"
     ]
    }
   ],
   "source": [
    "## this really has no improvement either\n",
    "train_names, dev_names, test_names,train_set, dev_set, test_set = getNewSets(names, gender_features7)\n",
    "classifier7 = nltk.NaiveBayesClassifier.train(train_set)\n",
    "print nltk.classify.accuracy(classifier7, dev_set)"
   ]
  },
  {
   "cell_type": "code",
   "execution_count": null,
   "metadata": {
    "collapsed": true
   },
   "outputs": [],
   "source": []
  },
  {
   "cell_type": "code",
   "execution_count": null,
   "metadata": {
    "collapsed": true
   },
   "outputs": [],
   "source": []
  },
  {
   "cell_type": "markdown",
   "metadata": {},
   "source": [
    "So at this point, version 3 appears to do as good as any, with ~77-78%. Still, names like Dave and Mike are assigned incorrectly."
   ]
  }
 ],
 "metadata": {
  "anaconda-cloud": {},
  "kernelspec": {
   "display_name": "Python 2",
   "language": "python",
   "name": "python2"
  },
  "language_info": {
   "codemirror_mode": {
    "name": "ipython",
    "version": 2
   },
   "file_extension": ".py",
   "mimetype": "text/x-python",
   "name": "python",
   "nbconvert_exporter": "python",
   "pygments_lexer": "ipython2",
   "version": "2.7.8"
  }
 },
 "nbformat": 4,
 "nbformat_minor": 0
}
